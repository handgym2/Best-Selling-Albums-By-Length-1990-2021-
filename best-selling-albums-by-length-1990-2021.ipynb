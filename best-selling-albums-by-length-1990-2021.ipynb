{
 "cells": [
  {
   "cell_type": "code",
   "execution_count": 1,
   "id": "8ad0bc90",
   "metadata": {
    "_cell_guid": "b1076dfc-b9ad-4769-8c92-a6c4dae69d19",
    "_uuid": "8f2839f25d086af736a60e9eeb907d3b93b6e0e5",
    "execution": {
     "iopub.execute_input": "2022-09-26T13:31:15.661812Z",
     "iopub.status.busy": "2022-09-26T13:31:15.661350Z",
     "iopub.status.idle": "2022-09-26T13:31:16.831678Z",
     "shell.execute_reply": "2022-09-26T13:31:16.830280Z"
    },
    "papermill": {
     "duration": 1.181613,
     "end_time": "2022-09-26T13:31:16.834807",
     "exception": false,
     "start_time": "2022-09-26T13:31:15.653194",
     "status": "completed"
    },
    "tags": []
   },
   "outputs": [
    {
     "name": "stdout",
     "output_type": "stream",
     "text": [
      "/kaggle/input/top-10-annual-best-selling-albums-by-length/Top 10 Albums By Year Tracks - Album Length.csv\n",
      "/kaggle/input/top-10-annual-best-selling-albums-by-length/Top 10 Albums By Year Album Length - Sheet1.csv\n"
     ]
    }
   ],
   "source": [
    "# This Python 3 environment comes with many helpful analytics libraries installed\n",
    "# It is defined by the kaggle/python Docker image: https://github.com/kaggle/docker-python\n",
    "# For example, here's several helpful packages to load\n",
    "\n",
    "import numpy as np # linear algebra\n",
    "import pandas as pd # data processing, CSV file I/O (e.g. pd.read_csv)\n",
    "import matplotlib.pyplot as plt\n",
    "import seaborn as sns\n",
    "\n",
    "# Input data files are available in the read-only \"../input/\" directory\n",
    "# For example, running this (by clicking run or pressing Shift+Enter) will list all files under the input directory\n",
    "\n",
    "import os\n",
    "for dirname, _, filenames in os.walk('/kaggle/input'):\n",
    "    for filename in filenames:\n",
    "        print(os.path.join(dirname, filename))\n",
    "\n",
    "# You can write up to 20GB to the current directory (/kaggle/working/) that gets preserved as output when you create a version using \"Save & Run All\" \n",
    "# You can also write temporary files to /kaggle/temp/, but they won't be saved outside of the current session"
   ]
  },
  {
   "cell_type": "markdown",
   "id": "60f6e857",
   "metadata": {
    "papermill": {
     "duration": 0.005295,
     "end_time": "2022-09-26T13:31:16.847380",
     "exception": false,
     "start_time": "2022-09-26T13:31:16.842085",
     "status": "completed"
    },
    "tags": []
   },
   "source": [
    "# Loading Data"
   ]
  },
  {
   "cell_type": "code",
   "execution_count": 2,
   "id": "54ede7e8",
   "metadata": {
    "execution": {
     "iopub.execute_input": "2022-09-26T13:31:16.860087Z",
     "iopub.status.busy": "2022-09-26T13:31:16.859668Z",
     "iopub.status.idle": "2022-09-26T13:31:16.890974Z",
     "shell.execute_reply": "2022-09-26T13:31:16.889482Z"
    },
    "papermill": {
     "duration": 0.040879,
     "end_time": "2022-09-26T13:31:16.893771",
     "exception": false,
     "start_time": "2022-09-26T13:31:16.852892",
     "status": "completed"
    },
    "tags": []
   },
   "outputs": [],
   "source": [
    "data_track = pd.read_csv('/kaggle/input/top-10-annual-best-selling-albums-by-length/Top 10 Albums By Year Tracks - Album Length.csv')\n",
    "data_length = pd.read_csv('/kaggle/input/top-10-annual-best-selling-albums-by-length/Top 10 Albums By Year Album Length - Sheet1.csv')"
   ]
  },
  {
   "cell_type": "code",
   "execution_count": 3,
   "id": "0dfb6860",
   "metadata": {
    "execution": {
     "iopub.execute_input": "2022-09-26T13:31:16.906825Z",
     "iopub.status.busy": "2022-09-26T13:31:16.906366Z",
     "iopub.status.idle": "2022-09-26T13:31:16.965021Z",
     "shell.execute_reply": "2022-09-26T13:31:16.963107Z"
    },
    "papermill": {
     "duration": 0.068713,
     "end_time": "2022-09-26T13:31:16.968041",
     "exception": false,
     "start_time": "2022-09-26T13:31:16.899328",
     "status": "completed"
    },
    "tags": []
   },
   "outputs": [
    {
     "name": "stdout",
     "output_type": "stream",
     "text": [
      "(320, 9)\n",
      "-----------\n",
      "Year                       int64\n",
      "Ranking                    int64\n",
      "Artist                    object\n",
      "Album                     object\n",
      "Worldwide Sales (Est.)    object\n",
      "CDs                        int64\n",
      "Tracks                     int64\n",
      "Album Length              object\n",
      "Genre                     object\n",
      "dtype: object\n",
      "-----------\n",
      "              Year    Ranking         CDs      Tracks\n",
      "count   320.000000  320.00000  320.000000  320.000000\n",
      "mean   2005.500000    5.50000    1.043750   14.306250\n",
      "std       9.247553    2.87678    0.246528    5.868995\n",
      "min    1990.000000    1.00000    1.000000    6.000000\n",
      "25%    1997.750000    3.00000    1.000000   12.000000\n",
      "50%    2005.500000    5.50000    1.000000   13.000000\n",
      "75%    2013.250000    8.00000    1.000000   15.000000\n",
      "max    2021.000000   10.00000    4.000000   67.000000\n",
      "-----------\n",
      "<class 'pandas.core.frame.DataFrame'>\n",
      "RangeIndex: 320 entries, 0 to 319\n",
      "Data columns (total 9 columns):\n",
      " #   Column                  Non-Null Count  Dtype \n",
      "---  ------                  --------------  ----- \n",
      " 0   Year                    320 non-null    int64 \n",
      " 1   Ranking                 320 non-null    int64 \n",
      " 2   Artist                  320 non-null    object\n",
      " 3   Album                   320 non-null    object\n",
      " 4   Worldwide Sales (Est.)  320 non-null    object\n",
      " 5   CDs                     320 non-null    int64 \n",
      " 6   Tracks                  320 non-null    int64 \n",
      " 7   Album Length            320 non-null    object\n",
      " 8   Genre                   320 non-null    object\n",
      "dtypes: int64(4), object(5)\n",
      "memory usage: 22.6+ KB\n",
      "None\n",
      "-----------\n",
      "      Year  Ranking  Artist  Album  Worldwide Sales (Est.)    CDs  Tracks  \\\n",
      "0    False    False   False  False                   False  False   False   \n",
      "1    False    False   False  False                   False  False   False   \n",
      "2    False    False   False  False                   False  False   False   \n",
      "3    False    False   False  False                   False  False   False   \n",
      "4    False    False   False  False                   False  False   False   \n",
      "..     ...      ...     ...    ...                     ...    ...     ...   \n",
      "315  False    False   False  False                   False  False   False   \n",
      "316  False    False   False  False                   False  False   False   \n",
      "317  False    False   False  False                   False  False   False   \n",
      "318  False    False   False  False                   False  False   False   \n",
      "319  False    False   False  False                   False  False   False   \n",
      "\n",
      "     Album Length  Genre  \n",
      "0           False  False  \n",
      "1           False  False  \n",
      "2           False  False  \n",
      "3           False  False  \n",
      "4           False  False  \n",
      "..            ...    ...  \n",
      "315         False  False  \n",
      "316         False  False  \n",
      "317         False  False  \n",
      "318         False  False  \n",
      "319         False  False  \n",
      "\n",
      "[320 rows x 9 columns]\n"
     ]
    }
   ],
   "source": [
    "print(data_track.shape) #행,열 확인\n",
    "print(\"-----------\")\n",
    "print(data_track.dtypes) # 데이터들의 타입 확인\n",
    "print(\"-----------\")\n",
    "print(data_track.describe()) # 데이터들의 통계량 확인\n",
    "print(\"-----------\")\n",
    "print(data_track.info()) #데이터들의 타입, 결측치 등 확인\n",
    "print(\"-----------\")\n",
    "print(data_track.isnull()) #결측치 확인"
   ]
  },
  {
   "cell_type": "code",
   "execution_count": 4,
   "id": "7cd680d7",
   "metadata": {
    "execution": {
     "iopub.execute_input": "2022-09-26T13:31:16.983205Z",
     "iopub.status.busy": "2022-09-26T13:31:16.982735Z",
     "iopub.status.idle": "2022-09-26T13:31:17.044660Z",
     "shell.execute_reply": "2022-09-26T13:31:17.041910Z"
    },
    "papermill": {
     "duration": 0.075362,
     "end_time": "2022-09-26T13:31:17.049061",
     "exception": false,
     "start_time": "2022-09-26T13:31:16.973699",
     "status": "completed"
    },
    "tags": []
   },
   "outputs": [
    {
     "name": "stdout",
     "output_type": "stream",
     "text": [
      "(320, 12)\n",
      "-----------\n",
      "Year                        int64\n",
      "Ranking                     int64\n",
      "Artist                     object\n",
      "Album                      object\n",
      "Worldwide Sales (Est.)     object\n",
      "CDs                         int64\n",
      "Tracks                      int64\n",
      "Album Length               object\n",
      "Hours                     float64\n",
      "Minutes                   float64\n",
      "Seconds                     int64\n",
      "Genre                      object\n",
      "dtype: object\n",
      "-----------\n",
      "              Year    Ranking         CDs      Tracks       Hours     Minutes  \\\n",
      "count   320.000000  320.00000  320.000000  320.000000  320.000000  320.000000   \n",
      "mean   2005.500000    5.50000    1.043750   14.306250    0.941406   56.478500   \n",
      "std       9.247553    2.87678    0.246528    5.868995    0.382895   22.970109   \n",
      "min    1990.000000    1.00000    1.000000    6.000000    0.320000   19.430000   \n",
      "25%    1997.750000    3.00000    1.000000   12.000000    0.740000   44.137500   \n",
      "50%    2005.500000    5.50000    1.000000   13.000000    0.860000   51.555000   \n",
      "75%    2013.250000    8.00000    1.000000   15.000000    1.090000   65.112500   \n",
      "max    2021.000000   10.00000    4.000000   67.000000    5.070000  304.030000   \n",
      "\n",
      "            Seconds  \n",
      "count    320.000000  \n",
      "mean    3388.715625  \n",
      "std     1378.209812  \n",
      "min     1166.000000  \n",
      "25%     2648.250000  \n",
      "50%     3093.500000  \n",
      "75%     3906.750000  \n",
      "max    18242.000000  \n",
      "-----------\n",
      "<class 'pandas.core.frame.DataFrame'>\n",
      "RangeIndex: 320 entries, 0 to 319\n",
      "Data columns (total 12 columns):\n",
      " #   Column                  Non-Null Count  Dtype  \n",
      "---  ------                  --------------  -----  \n",
      " 0   Year                    320 non-null    int64  \n",
      " 1   Ranking                 320 non-null    int64  \n",
      " 2   Artist                  320 non-null    object \n",
      " 3   Album                   320 non-null    object \n",
      " 4   Worldwide Sales (Est.)  320 non-null    object \n",
      " 5   CDs                     320 non-null    int64  \n",
      " 6   Tracks                  320 non-null    int64  \n",
      " 7   Album Length            320 non-null    object \n",
      " 8   Hours                   320 non-null    float64\n",
      " 9   Minutes                 320 non-null    float64\n",
      " 10  Seconds                 320 non-null    int64  \n",
      " 11  Genre                   320 non-null    object \n",
      "dtypes: float64(2), int64(5), object(5)\n",
      "memory usage: 30.1+ KB\n",
      "None\n",
      "-----------\n",
      "      Year  Ranking  Artist  Album  Worldwide Sales (Est.)    CDs  Tracks  \\\n",
      "0    False    False   False  False                   False  False   False   \n",
      "1    False    False   False  False                   False  False   False   \n",
      "2    False    False   False  False                   False  False   False   \n",
      "3    False    False   False  False                   False  False   False   \n",
      "4    False    False   False  False                   False  False   False   \n",
      "..     ...      ...     ...    ...                     ...    ...     ...   \n",
      "315  False    False   False  False                   False  False   False   \n",
      "316  False    False   False  False                   False  False   False   \n",
      "317  False    False   False  False                   False  False   False   \n",
      "318  False    False   False  False                   False  False   False   \n",
      "319  False    False   False  False                   False  False   False   \n",
      "\n",
      "     Album Length  Hours  Minutes  Seconds  Genre  \n",
      "0           False  False    False    False  False  \n",
      "1           False  False    False    False  False  \n",
      "2           False  False    False    False  False  \n",
      "3           False  False    False    False  False  \n",
      "4           False  False    False    False  False  \n",
      "..            ...    ...      ...      ...    ...  \n",
      "315         False  False    False    False  False  \n",
      "316         False  False    False    False  False  \n",
      "317         False  False    False    False  False  \n",
      "318         False  False    False    False  False  \n",
      "319         False  False    False    False  False  \n",
      "\n",
      "[320 rows x 12 columns]\n"
     ]
    }
   ],
   "source": [
    "print(data_length.shape) #행,열 확인\n",
    "print(\"-----------\")\n",
    "print(data_length.dtypes) # 데이터들의 타입 확인\n",
    "print(\"-----------\")\n",
    "print(data_length.describe()) # 데이터들의 통계량 확인\n",
    "print(\"-----------\")\n",
    "print(data_length.info()) #데이터들의 타입, 결측치 등 확인\n",
    "print(\"-----------\")\n",
    "print(data_length.isnull()) #결측치 확인"
   ]
  },
  {
   "cell_type": "code",
   "execution_count": 5,
   "id": "39f479cb",
   "metadata": {
    "execution": {
     "iopub.execute_input": "2022-09-26T13:31:17.066017Z",
     "iopub.status.busy": "2022-09-26T13:31:17.065058Z",
     "iopub.status.idle": "2022-09-26T13:31:17.088489Z",
     "shell.execute_reply": "2022-09-26T13:31:17.087149Z"
    },
    "papermill": {
     "duration": 0.035234,
     "end_time": "2022-09-26T13:31:17.091262",
     "exception": false,
     "start_time": "2022-09-26T13:31:17.056028",
     "status": "completed"
    },
    "tags": []
   },
   "outputs": [
    {
     "data": {
      "text/html": [
       "<div>\n",
       "<style scoped>\n",
       "    .dataframe tbody tr th:only-of-type {\n",
       "        vertical-align: middle;\n",
       "    }\n",
       "\n",
       "    .dataframe tbody tr th {\n",
       "        vertical-align: top;\n",
       "    }\n",
       "\n",
       "    .dataframe thead th {\n",
       "        text-align: right;\n",
       "    }\n",
       "</style>\n",
       "<table border=\"1\" class=\"dataframe\">\n",
       "  <thead>\n",
       "    <tr style=\"text-align: right;\">\n",
       "      <th></th>\n",
       "      <th>Year</th>\n",
       "      <th>Ranking</th>\n",
       "      <th>Artist</th>\n",
       "      <th>Album</th>\n",
       "      <th>Worldwide Sales (Est.)</th>\n",
       "      <th>CDs</th>\n",
       "      <th>Tracks</th>\n",
       "      <th>Album Length</th>\n",
       "      <th>Genre</th>\n",
       "    </tr>\n",
       "  </thead>\n",
       "  <tbody>\n",
       "    <tr>\n",
       "      <th>0</th>\n",
       "      <td>2014</td>\n",
       "      <td>4</td>\n",
       "      <td>Hozier</td>\n",
       "      <td>Hozier</td>\n",
       "      <td>4,413,503</td>\n",
       "      <td>1</td>\n",
       "      <td>13</td>\n",
       "      <td>0:53:26</td>\n",
       "      <td>Blues</td>\n",
       "    </tr>\n",
       "    <tr>\n",
       "      <th>1</th>\n",
       "      <td>1990</td>\n",
       "      <td>10</td>\n",
       "      <td>The Three Tenors</td>\n",
       "      <td>Carreras Domingo Pavarotti In Concert 1990</td>\n",
       "      <td>8,533,000</td>\n",
       "      <td>1</td>\n",
       "      <td>17</td>\n",
       "      <td>1:07:55</td>\n",
       "      <td>Classical</td>\n",
       "    </tr>\n",
       "    <tr>\n",
       "      <th>2</th>\n",
       "      <td>1997</td>\n",
       "      <td>3</td>\n",
       "      <td>Movie Soundtrack</td>\n",
       "      <td>Titanic</td>\n",
       "      <td>30,000,000</td>\n",
       "      <td>1</td>\n",
       "      <td>15</td>\n",
       "      <td>1:12:31</td>\n",
       "      <td>Classical</td>\n",
       "    </tr>\n",
       "    <tr>\n",
       "      <th>3</th>\n",
       "      <td>1997</td>\n",
       "      <td>4</td>\n",
       "      <td>Andrea Bocelli</td>\n",
       "      <td>Romanza</td>\n",
       "      <td>20,000,000</td>\n",
       "      <td>1</td>\n",
       "      <td>15</td>\n",
       "      <td>1:10:13</td>\n",
       "      <td>Classical</td>\n",
       "    </tr>\n",
       "    <tr>\n",
       "      <th>4</th>\n",
       "      <td>2009</td>\n",
       "      <td>9</td>\n",
       "      <td>Andrea Bocelli</td>\n",
       "      <td>My Christmas</td>\n",
       "      <td>4,060,000</td>\n",
       "      <td>1</td>\n",
       "      <td>15</td>\n",
       "      <td>0:59:17</td>\n",
       "      <td>Classical</td>\n",
       "    </tr>\n",
       "  </tbody>\n",
       "</table>\n",
       "</div>"
      ],
      "text/plain": [
       "   Year  Ranking            Artist  \\\n",
       "0  2014        4            Hozier   \n",
       "1  1990       10  The Three Tenors   \n",
       "2  1997        3  Movie Soundtrack   \n",
       "3  1997        4    Andrea Bocelli   \n",
       "4  2009        9    Andrea Bocelli   \n",
       "\n",
       "                                        Album Worldwide Sales (Est.)  CDs  \\\n",
       "0                                      Hozier              4,413,503    1   \n",
       "1  Carreras Domingo Pavarotti In Concert 1990              8,533,000    1   \n",
       "2                                     Titanic             30,000,000    1   \n",
       "3                                     Romanza             20,000,000    1   \n",
       "4                                My Christmas              4,060,000    1   \n",
       "\n",
       "   Tracks Album Length      Genre  \n",
       "0      13      0:53:26      Blues  \n",
       "1      17      1:07:55  Classical  \n",
       "2      15      1:12:31  Classical  \n",
       "3      15      1:10:13  Classical  \n",
       "4      15      0:59:17  Classical  "
      ]
     },
     "execution_count": 5,
     "metadata": {},
     "output_type": "execute_result"
    }
   ],
   "source": [
    "data_track.head()"
   ]
  },
  {
   "cell_type": "code",
   "execution_count": 6,
   "id": "59e18405",
   "metadata": {
    "execution": {
     "iopub.execute_input": "2022-09-26T13:31:17.106363Z",
     "iopub.status.busy": "2022-09-26T13:31:17.105909Z",
     "iopub.status.idle": "2022-09-26T13:31:17.123587Z",
     "shell.execute_reply": "2022-09-26T13:31:17.122426Z"
    },
    "papermill": {
     "duration": 0.028189,
     "end_time": "2022-09-26T13:31:17.126123",
     "exception": false,
     "start_time": "2022-09-26T13:31:17.097934",
     "status": "completed"
    },
    "tags": []
   },
   "outputs": [
    {
     "data": {
      "text/html": [
       "<div>\n",
       "<style scoped>\n",
       "    .dataframe tbody tr th:only-of-type {\n",
       "        vertical-align: middle;\n",
       "    }\n",
       "\n",
       "    .dataframe tbody tr th {\n",
       "        vertical-align: top;\n",
       "    }\n",
       "\n",
       "    .dataframe thead th {\n",
       "        text-align: right;\n",
       "    }\n",
       "</style>\n",
       "<table border=\"1\" class=\"dataframe\">\n",
       "  <thead>\n",
       "    <tr style=\"text-align: right;\">\n",
       "      <th></th>\n",
       "      <th>Year</th>\n",
       "      <th>Ranking</th>\n",
       "      <th>Artist</th>\n",
       "      <th>Album</th>\n",
       "      <th>Worldwide Sales (Est.)</th>\n",
       "      <th>CDs</th>\n",
       "      <th>Tracks</th>\n",
       "      <th>Album Length</th>\n",
       "      <th>Hours</th>\n",
       "      <th>Minutes</th>\n",
       "      <th>Seconds</th>\n",
       "      <th>Genre</th>\n",
       "    </tr>\n",
       "  </thead>\n",
       "  <tbody>\n",
       "    <tr>\n",
       "      <th>0</th>\n",
       "      <td>2019</td>\n",
       "      <td>8</td>\n",
       "      <td>Arashi</td>\n",
       "      <td>5x20 All The Best!! 1999-2019</td>\n",
       "      <td>3,300,000</td>\n",
       "      <td>4</td>\n",
       "      <td>67</td>\n",
       "      <td>5:04:02</td>\n",
       "      <td>5.07</td>\n",
       "      <td>304.03</td>\n",
       "      <td>18242</td>\n",
       "      <td>Pop</td>\n",
       "    </tr>\n",
       "    <tr>\n",
       "      <th>1</th>\n",
       "      <td>2017</td>\n",
       "      <td>8</td>\n",
       "      <td>Elton John</td>\n",
       "      <td>Diamonds</td>\n",
       "      <td>3,220,000</td>\n",
       "      <td>2</td>\n",
       "      <td>34</td>\n",
       "      <td>2:35:47</td>\n",
       "      <td>2.60</td>\n",
       "      <td>155.78</td>\n",
       "      <td>9347</td>\n",
       "      <td>Rock</td>\n",
       "    </tr>\n",
       "    <tr>\n",
       "      <th>2</th>\n",
       "      <td>1995</td>\n",
       "      <td>4</td>\n",
       "      <td>Michael Jackson</td>\n",
       "      <td>History: Past, Present &amp; Future Book I</td>\n",
       "      <td>20,000,000</td>\n",
       "      <td>2</td>\n",
       "      <td>30</td>\n",
       "      <td>2:28:51</td>\n",
       "      <td>2.48</td>\n",
       "      <td>148.85</td>\n",
       "      <td>8931</td>\n",
       "      <td>Pop</td>\n",
       "    </tr>\n",
       "    <tr>\n",
       "      <th>3</th>\n",
       "      <td>2015</td>\n",
       "      <td>6</td>\n",
       "      <td>Broadway Soundtrack</td>\n",
       "      <td>Hamilton</td>\n",
       "      <td>4,835,000</td>\n",
       "      <td>2</td>\n",
       "      <td>46</td>\n",
       "      <td>2:22:13</td>\n",
       "      <td>2.37</td>\n",
       "      <td>142.22</td>\n",
       "      <td>8533</td>\n",
       "      <td>Hip Hop</td>\n",
       "    </tr>\n",
       "    <tr>\n",
       "      <th>4</th>\n",
       "      <td>2003</td>\n",
       "      <td>10</td>\n",
       "      <td>Outkast</td>\n",
       "      <td>Speakerboxxx / The Love Below</td>\n",
       "      <td>7,012,000</td>\n",
       "      <td>2</td>\n",
       "      <td>39</td>\n",
       "      <td>2:14:39</td>\n",
       "      <td>2.24</td>\n",
       "      <td>134.65</td>\n",
       "      <td>8079</td>\n",
       "      <td>Hip Hop</td>\n",
       "    </tr>\n",
       "  </tbody>\n",
       "</table>\n",
       "</div>"
      ],
      "text/plain": [
       "   Year  Ranking               Artist                                   Album  \\\n",
       "0  2019        8               Arashi           5x20 All The Best!! 1999-2019   \n",
       "1  2017        8           Elton John                                Diamonds   \n",
       "2  1995        4      Michael Jackson  History: Past, Present & Future Book I   \n",
       "3  2015        6  Broadway Soundtrack                                Hamilton   \n",
       "4  2003       10              Outkast           Speakerboxxx / The Love Below   \n",
       "\n",
       "  Worldwide Sales (Est.)  CDs  Tracks Album Length  Hours  Minutes  Seconds  \\\n",
       "0              3,300,000    4      67      5:04:02   5.07   304.03    18242   \n",
       "1              3,220,000    2      34      2:35:47   2.60   155.78     9347   \n",
       "2             20,000,000    2      30      2:28:51   2.48   148.85     8931   \n",
       "3              4,835,000    2      46      2:22:13   2.37   142.22     8533   \n",
       "4              7,012,000    2      39      2:14:39   2.24   134.65     8079   \n",
       "\n",
       "     Genre  \n",
       "0      Pop  \n",
       "1     Rock  \n",
       "2      Pop  \n",
       "3  Hip Hop  \n",
       "4  Hip Hop  "
      ]
     },
     "execution_count": 6,
     "metadata": {},
     "output_type": "execute_result"
    }
   ],
   "source": [
    "data_length.head()"
   ]
  },
  {
   "cell_type": "code",
   "execution_count": 7,
   "id": "d03a3297",
   "metadata": {
    "execution": {
     "iopub.execute_input": "2022-09-26T13:31:17.140734Z",
     "iopub.status.busy": "2022-09-26T13:31:17.140282Z",
     "iopub.status.idle": "2022-09-26T13:31:17.146153Z",
     "shell.execute_reply": "2022-09-26T13:31:17.145225Z"
    },
    "papermill": {
     "duration": 0.016193,
     "end_time": "2022-09-26T13:31:17.148921",
     "exception": false,
     "start_time": "2022-09-26T13:31:17.132728",
     "status": "completed"
    },
    "tags": []
   },
   "outputs": [],
   "source": [
    "artists =  data_length.Artist.unique()"
   ]
  },
  {
   "cell_type": "code",
   "execution_count": 8,
   "id": "973d76b1",
   "metadata": {
    "execution": {
     "iopub.execute_input": "2022-09-26T13:31:17.165578Z",
     "iopub.status.busy": "2022-09-26T13:31:17.164851Z",
     "iopub.status.idle": "2022-09-26T13:31:17.349769Z",
     "shell.execute_reply": "2022-09-26T13:31:17.348590Z"
    },
    "papermill": {
     "duration": 0.1973,
     "end_time": "2022-09-26T13:31:17.352892",
     "exception": false,
     "start_time": "2022-09-26T13:31:17.155592",
     "status": "completed"
    },
    "tags": []
   },
   "outputs": [],
   "source": [
    "# Worldwide Sales (Est.) Dtype to Int64 and Sum Artist Worldwide Sales (Est.)\n",
    "Worldwide_Sales_sum_data = []\n",
    "for artist in artists:\n",
    "    Worldwide_Sales = data_length[data_length.Artist == '{}'.format(artist)]\n",
    "    Worldwide_Sales_sum = Worldwide_Sales['Worldwide Sales (Est.)'].str.replace(pat=r'[^\\w]', repl=r'', regex=True).astype(int).sum()\n",
    "    Worldwide_Sales_sum_data.append([artist,Worldwide_Sales_sum])\n",
    "    \n",
    "Worldwide_Sales_sum_df = pd.DataFrame(Worldwide_Sales_sum_data,columns=['Artist','Worldwide_Sales_sum']) "
   ]
  },
  {
   "cell_type": "code",
   "execution_count": 9,
   "id": "97063236",
   "metadata": {
    "execution": {
     "iopub.execute_input": "2022-09-26T13:31:17.368541Z",
     "iopub.status.busy": "2022-09-26T13:31:17.368082Z",
     "iopub.status.idle": "2022-09-26T13:31:17.376674Z",
     "shell.execute_reply": "2022-09-26T13:31:17.375247Z"
    },
    "papermill": {
     "duration": 0.02021,
     "end_time": "2022-09-26T13:31:17.379455",
     "exception": false,
     "start_time": "2022-09-26T13:31:17.359245",
     "status": "completed"
    },
    "tags": []
   },
   "outputs": [],
   "source": [
    "def bar_templete(title,df_data, x_data, y_data, fontsize, color, height, rotation):\n",
    "    plt.figure(figsize=(16,5))\n",
    "    plt.style.use('default')\n",
    "    plt.ticklabel_format(useOffset=False, style='plain')\n",
    "    plt.title(title)\n",
    "    \n",
    "    ax = sns.barplot(data =df_data, x=x_data, y=y_data)\n",
    "    \n",
    "    for p in ax.patches: \n",
    "        ax.annotate(\"%.0f\" % p.get_height(), (p.get_x() + p.get_width()/2., p.get_height() - 30), \n",
    "           ha='center', va='center', fontsize=fontsize, color=color, xytext=(0, height), rotation = rotation,\n",
    "           textcoords='offset points') \n",
    "\n",
    "    plt.xticks(rotation=90, size=10)\n",
    "#     plt.grid(True, axis='y')\n",
    "    plt.show()"
   ]
  },
  {
   "cell_type": "markdown",
   "id": "35f36324",
   "metadata": {
    "papermill": {
     "duration": 0.005993,
     "end_time": "2022-09-26T13:31:17.391908",
     "exception": false,
     "start_time": "2022-09-26T13:31:17.385915",
     "status": "completed"
    },
    "tags": []
   },
   "source": [
    "# TOP 10 Best Total Sales Artists of 1990-2021"
   ]
  },
  {
   "cell_type": "code",
   "execution_count": 10,
   "id": "accaa37d",
   "metadata": {
    "execution": {
     "iopub.execute_input": "2022-09-26T13:31:17.406110Z",
     "iopub.status.busy": "2022-09-26T13:31:17.405719Z",
     "iopub.status.idle": "2022-09-26T13:31:17.708559Z",
     "shell.execute_reply": "2022-09-26T13:31:17.707096Z"
    },
    "papermill": {
     "duration": 0.313565,
     "end_time": "2022-09-26T13:31:17.711657",
     "exception": false,
     "start_time": "2022-09-26T13:31:17.398092",
     "status": "completed"
    },
    "tags": []
   },
   "outputs": [
    {
     "data": {
      "image/png": "[encoded data removed]",
      "text/plain": [
       "<Figure size 1152x360 with 1 Axes>"
      ]
     },
     "metadata": {
      "needs_background": "light"
     },
     "output_type": "display_data"
    }
   ],
   "source": [
    "#bar_templete(title, df_data, x_data, y_data, fontsize, color, height, rotation)\n",
    "bar_templete(\"Best Sales Artists\",\n",
    "             Worldwide_Sales_sum_df.sort_values(by = 'Worldwide_Sales_sum', ascending=False)[:10], \n",
    "             'Artist',\n",
    "             'Worldwide_Sales_sum',\n",
    "             10,\n",
    "             'black',\n",
    "             -10,\n",
    "             0\n",
    "            )"
   ]
  },
  {
   "cell_type": "code",
   "execution_count": 11,
   "id": "800e7650",
   "metadata": {
    "execution": {
     "iopub.execute_input": "2022-09-26T13:31:17.729056Z",
     "iopub.status.busy": "2022-09-26T13:31:17.728642Z",
     "iopub.status.idle": "2022-09-26T13:31:17.734842Z",
     "shell.execute_reply": "2022-09-26T13:31:17.733627Z"
    },
    "papermill": {
     "duration": 0.017471,
     "end_time": "2022-09-26T13:31:17.737679",
     "exception": false,
     "start_time": "2022-09-26T13:31:17.720208",
     "status": "completed"
    },
    "tags": []
   },
   "outputs": [],
   "source": [
    "keys = data_length['Genre'].unique()\n",
    "data =data_length['Genre'].value_counts()"
   ]
  },
  {
   "cell_type": "markdown",
   "id": "9ea00774",
   "metadata": {
    "papermill": {
     "duration": 0.006635,
     "end_time": "2022-09-26T13:31:17.751539",
     "exception": false,
     "start_time": "2022-09-26T13:31:17.744904",
     "status": "completed"
    },
    "tags": []
   },
   "source": [
    "# Genre Pie Chart"
   ]
  },
  {
   "cell_type": "code",
   "execution_count": 12,
   "id": "12ccf8da",
   "metadata": {
    "execution": {
     "iopub.execute_input": "2022-09-26T13:31:17.767324Z",
     "iopub.status.busy": "2022-09-26T13:31:17.766852Z",
     "iopub.status.idle": "2022-09-26T13:31:20.218964Z",
     "shell.execute_reply": "2022-09-26T13:31:20.218016Z"
    },
    "papermill": {
     "duration": 2.462674,
     "end_time": "2022-09-26T13:31:20.221207",
     "exception": false,
     "start_time": "2022-09-26T13:31:17.758533",
     "status": "completed"
    },
    "tags": []
   },
   "outputs": [
    {
     "data": {
      "text/html": [
       "        <script type=\"text/javascript\">\n",
       "        window.PlotlyConfig = {MathJaxConfig: 'local'};\n",
       "        if (window.MathJax && window.MathJax.Hub && window.MathJax.Hub.Config) {window.MathJax.Hub.Config({SVG: {font: \"STIX-Web\"}});}\n",
       "        if (typeof require !== 'undefined') {\n",
       "        require.undef(\"plotly\");\n",
       "        requirejs.config({\n",
       "            paths: {\n",
       "                'plotly': ['https://cdn.plot.ly/plotly-2.14.0.min']\n",
       "            }\n",
       "        });\n",
       "        require(['plotly'], function(Plotly) {\n",
       "            window._Plotly = Plotly;\n",
       "        });\n",
       "        }\n",
       "        </script>\n",
       "        "
      ]
     },
     "metadata": {},
     "output_type": "display_data"
    },
    {
     "data": {
      "application/vnd.plotly.v1+json": {
       "config": {
        "plotlyServerURL": "https://plot.ly"
       },
       "data": [
        {
         "domain": {
          "x": [
           0.0,
           1.0
          ],
          "y": [
           0.0,
           1.0
          ]
         },
         "hovertemplate": "label=%{label}<br>value=%{value}<extra></extra>",
         "labels": [
          "Pop",
          "Rock",
          "Hip Hop",
          "Country",
          "R&B",
          "Classical",
          "Jazz",
          "World",
          "Blues",
          "EDM"
         ],
         "legendgroup": "",
         "name": "",
         "showlegend": true,
         "type": "pie",
         "values": [
          136,
          86,
          42,
          22,
          21,
          6,
          4,
          1,
          1,
          1
         ]
        }
       ],
       "layout": {
        "legend": {
         "tracegroupgap": 0
        },
        "piecolorway": [
         "rgb(103,0,31)",
         "rgb(178,24,43)",
         "rgb(214,96,77)",
         "rgb(244,165,130)",
         "rgb(253,219,199)",
         "rgb(247,247,247)",
         "rgb(209,229,240)",
         "rgb(146,197,222)",
         "rgb(67,147,195)",
         "rgb(33,102,172)",
         "rgb(5,48,97)"
        ],
        "template": {
         "data": {
          "bar": [
           {
            "error_x": {
             "color": "#2a3f5f"
            },
            "error_y": {
             "color": "#2a3f5f"
            },
            "marker": {
             "line": {
              "color": "#E5ECF6",
              "width": 0.5
             },
             "pattern": {
              "fillmode": "overlay",
              "size": 10,
              "solidity": 0.2
             }
            },
            "type": "bar"
           }
          ],
          "barpolar": [
           {
            "marker": {
             "line": {
              "color": "#E5ECF6",
              "width": 0.5
             },
             "pattern": {
              "fillmode": "overlay",
              "size": 10,
              "solidity": 0.2
             }
            },
            "type": "barpolar"
           }
          ],
          "carpet": [
           {
            "aaxis": {
             "endlinecolor": "#2a3f5f",
             "gridcolor": "white",
             "linecolor": "white",
             "minorgridcolor": "white",
             "startlinecolor": "#2a3f5f"
            },
            "baxis": {
             "endlinecolor": "#2a3f5f",
             "gridcolor": "white",
             "linecolor": "white",
             "minorgridcolor": "white",
             "startlinecolor": "#2a3f5f"
            },
            "type": "carpet"
           }
          ],
          "choropleth": [
           {
            "colorbar": {
             "outlinewidth": 0,
             "ticks": ""
            },
            "type": "choropleth"
           }
          ],
          "contour": [
           {
            "colorbar": {
             "outlinewidth": 0,
             "ticks": ""
            },
            "colorscale": [
             [
              0.0,
              "#0d0887"
             ],
             [
              0.1111111111111111,
              "#46039f"
             ],
             [
              0.2222222222222222,
              "#7201a8"
             ],
             [
              0.3333333333333333,
              "#9c179e"
             ],
             [
              0.4444444444444444,
              "#bd3786"
             ],
             [
              0.5555555555555556,
              "#d8576b"
             ],
             [
              0.6666666666666666,
              "#ed7953"
             ],
             [
              0.7777777777777778,
              "#fb9f3a"
             ],
             [
              0.8888888888888888,
              "#fdca26"
             ],
             [
              1.0,
              "#f0f921"
             ]
            ],
            "type": "contour"
           }
          ],
          "contourcarpet": [
           {
            "colorbar": {
             "outlinewidth": 0,
             "ticks": ""
            },
            "type": "contourcarpet"
           }
          ],
          "heatmap": [
           {
            "colorbar": {
             "outlinewidth": 0,
             "ticks": ""
            },
            "colorscale": [
             [
              0.0,
              "#0d0887"
             ],
             [
              0.1111111111111111,
              "#46039f"
             ],
             [
              0.2222222222222222,
              "#7201a8"
             ],
             [
              0.3333333333333333,
              "#9c179e"
             ],
             [
              0.4444444444444444,
              "#bd3786"
             ],
             [
              0.5555555555555556,
              "#d8576b"
             ],
             [
              0.6666666666666666,
              "#ed7953"
             ],
             [
              0.7777777777777778,
              "#fb9f3a"
             ],
             [
              0.8888888888888888,
              "#fdca26"
             ],
             [
              1.0,
              "#f0f921"
             ]
            ],
            "type": "heatmap"
           }
          ],
          "heatmapgl": [
           {
            "colorbar": {
             "outlinewidth": 0,
             "ticks": ""
            },
            "colorscale": [
             [
              0.0,
              "#0d0887"
             ],
             [
              0.1111111111111111,
              "#46039f"
             ],
             [
              0.2222222222222222,
              "#7201a8"
             ],
             [
              0.3333333333333333,
              "#9c179e"
             ],
             [
              0.4444444444444444,
              "#bd3786"
             ],
             [
              0.5555555555555556,
              "#d8576b"
             ],
             [
              0.6666666666666666,
              "#ed7953"
             ],
             [
              0.7777777777777778,
              "#fb9f3a"
             ],
             [
              0.8888888888888888,
              "#fdca26"
             ],
             [
              1.0,
              "#f0f921"
             ]
            ],
            "type": "heatmapgl"
           }
          ],
          "histogram": [
           {
            "marker": {
             "pattern": {
              "fillmode": "overlay",
              "size": 10,
              "solidity": 0.2
             }
            },
            "type": "histogram"
           }
          ],
          "histogram2d": [
           {
            "colorbar": {
             "outlinewidth": 0,
             "ticks": ""
            },
            "colorscale": [
             [
              0.0,
              "#0d0887"
             ],
             [
              0.1111111111111111,
              "#46039f"
             ],
             [
              0.2222222222222222,
              "#7201a8"
             ],
             [
              0.3333333333333333,
              "#9c179e"
             ],
             [
              0.4444444444444444,
              "#bd3786"
             ],
             [
              0.5555555555555556,
              "#d8576b"
             ],
             [
              0.6666666666666666,
              "#ed7953"
             ],
             [
              0.7777777777777778,
              "#fb9f3a"
             ],
             [
              0.8888888888888888,
              "#fdca26"
             ],
             [
              1.0,
              "#f0f921"
             ]
            ],
            "type": "histogram2d"
           }
          ],
          "histogram2dcontour": [
           {
            "colorbar": {
             "outlinewidth": 0,
             "ticks": ""
            },
            "colorscale": [
             [
              0.0,
              "#0d0887"
             ],
             [
              0.1111111111111111,
              "#46039f"
             ],
             [
              0.2222222222222222,
              "#7201a8"
             ],
             [
              0.3333333333333333,
              "#9c179e"
             ],
             [
              0.4444444444444444,
              "#bd3786"
             ],
             [
              0.5555555555555556,
              "#d8576b"
             ],
             [
              0.6666666666666666,
              "#ed7953"
             ],
             [
              0.7777777777777778,
              "#fb9f3a"
             ],
             [
              0.8888888888888888,
              "#fdca26"
             ],
             [
              1.0,
              "#f0f921"
             ]
            ],
            "type": "histogram2dcontour"
           }
          ],
          "mesh3d": [
           {
            "colorbar": {
             "outlinewidth": 0,
             "ticks": ""
            },
            "type": "mesh3d"
           }
          ],
          "parcoords": [
           {
            "line": {
             "colorbar": {
              "outlinewidth": 0,
              "ticks": ""
             }
            },
            "type": "parcoords"
           }
          ],
          "pie": [
           {
            "automargin": true,
            "type": "pie"
           }
          ],
          "scatter": [
           {
            "fillpattern": {
             "fillmode": "overlay",
             "size": 10,
             "solidity": 0.2
            },
            "type": "scatter"
           }
          ],
          "scatter3d": [
           {
            "line": {
             "colorbar": {
              "outlinewidth": 0,
              "ticks": ""
             }
            },
            "marker": {
             "colorbar": {
              "outlinewidth": 0,
              "ticks": ""
             }
            },
            "type": "scatter3d"
           }
          ],
          "scattercarpet": [
           {
            "marker": {
             "colorbar": {
              "outlinewidth": 0,
              "ticks": ""
             }
            },
            "type": "scattercarpet"
           }
          ],
          "scattergeo": [
           {
            "marker": {
             "colorbar": {
              "outlinewidth": 0,
              "ticks": ""
             }
            },
            "type": "scattergeo"
           }
          ],
          "scattergl": [
           {
            "marker": {
             "colorbar": {
              "outlinewidth": 0,
              "ticks": ""
             }
            },
            "type": "scattergl"
           }
          ],
          "scattermapbox": [
           {
            "marker": {
             "colorbar": {
              "outlinewidth": 0,
              "ticks": ""
             }
            },
            "type": "scattermapbox"
           }
          ],
          "scatterpolar": [
           {
            "marker": {
             "colorbar": {
              "outlinewidth": 0,
              "ticks": ""
             }
            },
            "type": "scatterpolar"
           }
          ],
          "scatterpolargl": [
           {
            "marker": {
             "colorbar": {
              "outlinewidth": 0,
              "ticks": ""
             }
            },
            "type": "scatterpolargl"
           }
          ],
          "scatterternary": [
           {
            "marker": {
             "colorbar": {
              "outlinewidth": 0,
              "ticks": ""
             }
            },
            "type": "scatterternary"
           }
          ],
          "surface": [
           {
            "colorbar": {
             "outlinewidth": 0,
             "ticks": ""
            },
            "colorscale": [
             [
              0.0,
              "#0d0887"
             ],
             [
              0.1111111111111111,
              "#46039f"
             ],
             [
              0.2222222222222222,
              "#7201a8"
             ],
             [
              0.3333333333333333,
              "#9c179e"
             ],
             [
              0.4444444444444444,
              "#bd3786"
             ],
             [
              0.5555555555555556,
              "#d8576b"
             ],
             [
              0.6666666666666666,
              "#ed7953"
             ],
             [
              0.7777777777777778,
              "#fb9f3a"
             ],
             [
              0.8888888888888888,
              "#fdca26"
             ],
             [
              1.0,
              "#f0f921"
             ]
            ],
            "type": "surface"
           }
          ],
          "table": [
           {
            "cells": {
             "fill": {
              "color": "#EBF0F8"
             },
             "line": {
              "color": "white"
             }
            },
            "header": {
             "fill": {
              "color": "#C8D4E3"
             },
             "line": {
              "color": "white"
             }
            },
            "type": "table"
           }
          ]
         },
         "layout": {
          "annotationdefaults": {
           "arrowcolor": "#2a3f5f",
           "arrowhead": 0,
           "arrowwidth": 1
          },
          "autotypenumbers": "strict",
          "coloraxis": {
           "colorbar": {
            "outlinewidth": 0,
            "ticks": ""
           }
          },
          "colorscale": {
           "diverging": [
            [
             0,
             "#8e0152"
            ],
            [
             0.1,
             "#c51b7d"
            ],
            [
             0.2,
             "#de77ae"
            ],
            [
             0.3,
             "#f1b6da"
            ],
            [
             0.4,
             "#fde0ef"
            ],
            [
             0.5,
             "#f7f7f7"
            ],
            [
             0.6,
             "#e6f5d0"
            ],
            [
             0.7,
             "#b8e186"
            ],
            [
             0.8,
             "#7fbc41"
            ],
            [
             0.9,
             "#4d9221"
            ],
            [
             1,
             "#276419"
            ]
           ],
           "sequential": [
            [
             0.0,
             "#0d0887"
            ],
            [
             0.1111111111111111,
             "#46039f"
            ],
            [
             0.2222222222222222,
             "#7201a8"
            ],
            [
             0.3333333333333333,
             "#9c179e"
            ],
            [
             0.4444444444444444,
             "#bd3786"
            ],
            [
             0.5555555555555556,
             "#d8576b"
            ],
            [
             0.6666666666666666,
             "#ed7953"
            ],
            [
             0.7777777777777778,
             "#fb9f3a"
            ],
            [
             0.8888888888888888,
             "#fdca26"
            ],
            [
             1.0,
             "#f0f921"
            ]
           ],
           "sequentialminus": [
            [
             0.0,
             "#0d0887"
            ],
            [
             0.1111111111111111,
             "#46039f"
            ],
            [
             0.2222222222222222,
             "#7201a8"
            ],
            [
             0.3333333333333333,
             "#9c179e"
            ],
            [
             0.4444444444444444,
             "#bd3786"
            ],
            [
             0.5555555555555556,
             "#d8576b"
            ],
            [
             0.6666666666666666,
             "#ed7953"
            ],
            [
             0.7777777777777778,
             "#fb9f3a"
            ],
            [
             0.8888888888888888,
             "#fdca26"
            ],
            [
             1.0,
             "#f0f921"
            ]
           ]
          },
          "colorway": [
           "#636efa",
           "#EF553B",
           "#00cc96",
           "#ab63fa",
           "#FFA15A",
           "#19d3f3",
           "#FF6692",
           "#B6E880",
           "#FF97FF",
           "#FECB52"
          ],
          "font": {
           "color": "#2a3f5f"
          },
          "geo": {
           "bgcolor": "white",
           "lakecolor": "white",
           "landcolor": "#E5ECF6",
           "showlakes": true,
           "showland": true,
           "subunitcolor": "white"
          },
          "hoverlabel": {
           "align": "left"
          },
          "hovermode": "closest",
          "mapbox": {
           "style": "light"
          },
          "paper_bgcolor": "white",
          "plot_bgcolor": "#E5ECF6",
          "polar": {
           "angularaxis": {
            "gridcolor": "white",
            "linecolor": "white",
            "ticks": ""
           },
           "bgcolor": "#E5ECF6",
           "radialaxis": {
            "gridcolor": "white",
            "linecolor": "white",
            "ticks": ""
           }
          },
          "scene": {
           "xaxis": {
            "backgroundcolor": "#E5ECF6",
            "gridcolor": "white",
            "gridwidth": 2,
            "linecolor": "white",
            "showbackground": true,
            "ticks": "",
            "zerolinecolor": "white"
           },
           "yaxis": {
            "backgroundcolor": "#E5ECF6",
            "gridcolor": "white",
            "gridwidth": 2,
            "linecolor": "white",
            "showbackground": true,
            "ticks": "",
            "zerolinecolor": "white"
           },
           "zaxis": {
            "backgroundcolor": "#E5ECF6",
            "gridcolor": "white",
            "gridwidth": 2,
            "linecolor": "white",
            "showbackground": true,
            "ticks": "",
            "zerolinecolor": "white"
           }
          },
          "shapedefaults": {
           "line": {
            "color": "#2a3f5f"
           }
          },
          "ternary": {
           "aaxis": {
            "gridcolor": "white",
            "linecolor": "white",
            "ticks": ""
           },
           "baxis": {
            "gridcolor": "white",
            "linecolor": "white",
            "ticks": ""
           },
           "bgcolor": "#E5ECF6",
           "caxis": {
            "gridcolor": "white",
            "linecolor": "white",
            "ticks": ""
           }
          },
          "title": {
           "x": 0.05
          },
          "xaxis": {
           "automargin": true,
           "gridcolor": "white",
           "linecolor": "white",
           "ticks": "",
           "title": {
            "standoff": 15
           },
           "zerolinecolor": "white",
           "zerolinewidth": 2
          },
          "yaxis": {
           "automargin": true,
           "gridcolor": "white",
           "linecolor": "white",
           "ticks": "",
           "title": {
            "standoff": 15
           },
           "zerolinecolor": "white",
           "zerolinewidth": 2
          }
         }
        },
        "title": {
         "text": "Best Genre Total Sales"
        }
       }
      },
      "text/html": [
       "<div>                            <div id=\"bec4e383-9a6c-41f9-94ec-00967bab2f96\" class=\"plotly-graph-div\" style=\"height:525px; width:100%;\"></div>            <script type=\"text/javascript\">                require([\"plotly\"], function(Plotly) {                    window.PLOTLYENV=window.PLOTLYENV || {};                                    if (document.getElementById(\"bec4e383-9a6c-41f9-94ec-00967bab2f96\")) {                    Plotly.newPlot(                        \"bec4e383-9a6c-41f9-94ec-00967bab2f96\",                        [{\"domain\":{\"x\":[0.0,1.0],\"y\":[0.0,1.0]},\"hovertemplate\":\"label=%{label}<br>value=%{value}<extra></extra>\",\"labels\":[\"Pop\",\"Rock\",\"Hip Hop\",\"Country\",\"R&B\",\"Classical\",\"Jazz\",\"World\",\"Blues\",\"EDM\"],\"legendgroup\":\"\",\"name\":\"\",\"showlegend\":true,\"values\":[136,86,42,22,21,6,4,1,1,1],\"type\":\"pie\"}],                        {\"template\":{\"data\":{\"histogram2dcontour\":[{\"type\":\"histogram2dcontour\",\"colorbar\":{\"outlinewidth\":0,\"ticks\":\"\"},\"colorscale\":[[0.0,\"#0d0887\"],[0.1111111111111111,\"#46039f\"],[0.2222222222222222,\"#7201a8\"],[0.3333333333333333,\"#9c179e\"],[0.4444444444444444,\"#bd3786\"],[0.5555555555555556,\"#d8576b\"],[0.6666666666666666,\"#ed7953\"],[0.7777777777777778,\"#fb9f3a\"],[0.8888888888888888,\"#fdca26\"],[1.0,\"#f0f921\"]]}],\"choropleth\":[{\"type\":\"choropleth\",\"colorbar\":{\"outlinewidth\":0,\"ticks\":\"\"}}],\"histogram2d\":[{\"type\":\"histogram2d\",\"colorbar\":{\"outlinewidth\":0,\"ticks\":\"\"},\"colorscale\":[[0.0,\"#0d0887\"],[0.1111111111111111,\"#46039f\"],[0.2222222222222222,\"#7201a8\"],[0.3333333333333333,\"#9c179e\"],[0.4444444444444444,\"#bd3786\"],[0.5555555555555556,\"#d8576b\"],[0.6666666666666666,\"#ed7953\"],[0.7777777777777778,\"#fb9f3a\"],[0.8888888888888888,\"#fdca26\"],[1.0,\"#f0f921\"]]}],\"heatmap\":[{\"type\":\"heatmap\",\"colorbar\":{\"outlinewidth\":0,\"ticks\":\"\"},\"colorscale\":[[0.0,\"#0d0887\"],[0.1111111111111111,\"#46039f\"],[0.2222222222222222,\"#7201a8\"],[0.3333333333333333,\"#9c179e\"],[0.4444444444444444,\"#bd3786\"],[0.5555555555555556,\"#d8576b\"],[0.6666666666666666,\"#ed7953\"],[0.7777777777777778,\"#fb9f3a\"],[0.8888888888888888,\"#fdca26\"],[1.0,\"#f0f921\"]]}],\"heatmapgl\":[{\"type\":\"heatmapgl\",\"colorbar\":{\"outlinewidth\":0,\"ticks\":\"\"},\"colorscale\":[[0.0,\"#0d0887\"],[0.1111111111111111,\"#46039f\"],[0.2222222222222222,\"#7201a8\"],[0.3333333333333333,\"#9c179e\"],[0.4444444444444444,\"#bd3786\"],[0.5555555555555556,\"#d8576b\"],[0.6666666666666666,\"#ed7953\"],[0.7777777777777778,\"#fb9f3a\"],[0.8888888888888888,\"#fdca26\"],[1.0,\"#f0f921\"]]}],\"contourcarpet\":[{\"type\":\"contourcarpet\",\"colorbar\":{\"outlinewidth\":0,\"ticks\":\"\"}}],\"contour\":[{\"type\":\"contour\",\"colorbar\":{\"outlinewidth\":0,\"ticks\":\"\"},\"colorscale\":[[0.0,\"#0d0887\"],[0.1111111111111111,\"#46039f\"],[0.2222222222222222,\"#7201a8\"],[0.3333333333333333,\"#9c179e\"],[0.4444444444444444,\"#bd3786\"],[0.5555555555555556,\"#d8576b\"],[0.6666666666666666,\"#ed7953\"],[0.7777777777777778,\"#fb9f3a\"],[0.8888888888888888,\"#fdca26\"],[1.0,\"#f0f921\"]]}],\"surface\":[{\"type\":\"surface\",\"colorbar\":{\"outlinewidth\":0,\"ticks\":\"\"},\"colorscale\":[[0.0,\"#0d0887\"],[0.1111111111111111,\"#46039f\"],[0.2222222222222222,\"#7201a8\"],[0.3333333333333333,\"#9c179e\"],[0.4444444444444444,\"#bd3786\"],[0.5555555555555556,\"#d8576b\"],[0.6666666666666666,\"#ed7953\"],[0.7777777777777778,\"#fb9f3a\"],[0.8888888888888888,\"#fdca26\"],[1.0,\"#f0f921\"]]}],\"mesh3d\":[{\"type\":\"mesh3d\",\"colorbar\":{\"outlinewidth\":0,\"ticks\":\"\"}}],\"scatter\":[{\"fillpattern\":{\"fillmode\":\"overlay\",\"size\":10,\"solidity\":0.2},\"type\":\"scatter\"}],\"parcoords\":[{\"type\":\"parcoords\",\"line\":{\"colorbar\":{\"outlinewidth\":0,\"ticks\":\"\"}}}],\"scatterpolargl\":[{\"type\":\"scatterpolargl\",\"marker\":{\"colorbar\":{\"outlinewidth\":0,\"ticks\":\"\"}}}],\"bar\":[{\"error_x\":{\"color\":\"#2a3f5f\"},\"error_y\":{\"color\":\"#2a3f5f\"},\"marker\":{\"line\":{\"color\":\"#E5ECF6\",\"width\":0.5},\"pattern\":{\"fillmode\":\"overlay\",\"size\":10,\"solidity\":0.2}},\"type\":\"bar\"}],\"scattergeo\":[{\"type\":\"scattergeo\",\"marker\":{\"colorbar\":{\"outlinewidth\":0,\"ticks\":\"\"}}}],\"scatterpolar\":[{\"type\":\"scatterpolar\",\"marker\":{\"colorbar\":{\"outlinewidth\":0,\"ticks\":\"\"}}}],\"histogram\":[{\"marker\":{\"pattern\":{\"fillmode\":\"overlay\",\"size\":10,\"solidity\":0.2}},\"type\":\"histogram\"}],\"scattergl\":[{\"type\":\"scattergl\",\"marker\":{\"colorbar\":{\"outlinewidth\":0,\"ticks\":\"\"}}}],\"scatter3d\":[{\"type\":\"scatter3d\",\"line\":{\"colorbar\":{\"outlinewidth\":0,\"ticks\":\"\"}},\"marker\":{\"colorbar\":{\"outlinewidth\":0,\"ticks\":\"\"}}}],\"scattermapbox\":[{\"type\":\"scattermapbox\",\"marker\":{\"colorbar\":{\"outlinewidth\":0,\"ticks\":\"\"}}}],\"scatterternary\":[{\"type\":\"scatterternary\",\"marker\":{\"colorbar\":{\"outlinewidth\":0,\"ticks\":\"\"}}}],\"scattercarpet\":[{\"type\":\"scattercarpet\",\"marker\":{\"colorbar\":{\"outlinewidth\":0,\"ticks\":\"\"}}}],\"carpet\":[{\"aaxis\":{\"endlinecolor\":\"#2a3f5f\",\"gridcolor\":\"white\",\"linecolor\":\"white\",\"minorgridcolor\":\"white\",\"startlinecolor\":\"#2a3f5f\"},\"baxis\":{\"endlinecolor\":\"#2a3f5f\",\"gridcolor\":\"white\",\"linecolor\":\"white\",\"minorgridcolor\":\"white\",\"startlinecolor\":\"#2a3f5f\"},\"type\":\"carpet\"}],\"table\":[{\"cells\":{\"fill\":{\"color\":\"#EBF0F8\"},\"line\":{\"color\":\"white\"}},\"header\":{\"fill\":{\"color\":\"#C8D4E3\"},\"line\":{\"color\":\"white\"}},\"type\":\"table\"}],\"barpolar\":[{\"marker\":{\"line\":{\"color\":\"#E5ECF6\",\"width\":0.5},\"pattern\":{\"fillmode\":\"overlay\",\"size\":10,\"solidity\":0.2}},\"type\":\"barpolar\"}],\"pie\":[{\"automargin\":true,\"type\":\"pie\"}]},\"layout\":{\"autotypenumbers\":\"strict\",\"colorway\":[\"#636efa\",\"#EF553B\",\"#00cc96\",\"#ab63fa\",\"#FFA15A\",\"#19d3f3\",\"#FF6692\",\"#B6E880\",\"#FF97FF\",\"#FECB52\"],\"font\":{\"color\":\"#2a3f5f\"},\"hovermode\":\"closest\",\"hoverlabel\":{\"align\":\"left\"},\"paper_bgcolor\":\"white\",\"plot_bgcolor\":\"#E5ECF6\",\"polar\":{\"bgcolor\":\"#E5ECF6\",\"angularaxis\":{\"gridcolor\":\"white\",\"linecolor\":\"white\",\"ticks\":\"\"},\"radialaxis\":{\"gridcolor\":\"white\",\"linecolor\":\"white\",\"ticks\":\"\"}},\"ternary\":{\"bgcolor\":\"#E5ECF6\",\"aaxis\":{\"gridcolor\":\"white\",\"linecolor\":\"white\",\"ticks\":\"\"},\"baxis\":{\"gridcolor\":\"white\",\"linecolor\":\"white\",\"ticks\":\"\"},\"caxis\":{\"gridcolor\":\"white\",\"linecolor\":\"white\",\"ticks\":\"\"}},\"coloraxis\":{\"colorbar\":{\"outlinewidth\":0,\"ticks\":\"\"}},\"colorscale\":{\"sequential\":[[0.0,\"#0d0887\"],[0.1111111111111111,\"#46039f\"],[0.2222222222222222,\"#7201a8\"],[0.3333333333333333,\"#9c179e\"],[0.4444444444444444,\"#bd3786\"],[0.5555555555555556,\"#d8576b\"],[0.6666666666666666,\"#ed7953\"],[0.7777777777777778,\"#fb9f3a\"],[0.8888888888888888,\"#fdca26\"],[1.0,\"#f0f921\"]],\"sequentialminus\":[[0.0,\"#0d0887\"],[0.1111111111111111,\"#46039f\"],[0.2222222222222222,\"#7201a8\"],[0.3333333333333333,\"#9c179e\"],[0.4444444444444444,\"#bd3786\"],[0.5555555555555556,\"#d8576b\"],[0.6666666666666666,\"#ed7953\"],[0.7777777777777778,\"#fb9f3a\"],[0.8888888888888888,\"#fdca26\"],[1.0,\"#f0f921\"]],\"diverging\":[[0,\"#8e0152\"],[0.1,\"#c51b7d\"],[0.2,\"#de77ae\"],[0.3,\"#f1b6da\"],[0.4,\"#fde0ef\"],[0.5,\"#f7f7f7\"],[0.6,\"#e6f5d0\"],[0.7,\"#b8e186\"],[0.8,\"#7fbc41\"],[0.9,\"#4d9221\"],[1,\"#276419\"]]},\"xaxis\":{\"gridcolor\":\"white\",\"linecolor\":\"white\",\"ticks\":\"\",\"title\":{\"standoff\":15},\"zerolinecolor\":\"white\",\"automargin\":true,\"zerolinewidth\":2},\"yaxis\":{\"gridcolor\":\"white\",\"linecolor\":\"white\",\"ticks\":\"\",\"title\":{\"standoff\":15},\"zerolinecolor\":\"white\",\"automargin\":true,\"zerolinewidth\":2},\"scene\":{\"xaxis\":{\"backgroundcolor\":\"#E5ECF6\",\"gridcolor\":\"white\",\"linecolor\":\"white\",\"showbackground\":true,\"ticks\":\"\",\"zerolinecolor\":\"white\",\"gridwidth\":2},\"yaxis\":{\"backgroundcolor\":\"#E5ECF6\",\"gridcolor\":\"white\",\"linecolor\":\"white\",\"showbackground\":true,\"ticks\":\"\",\"zerolinecolor\":\"white\",\"gridwidth\":2},\"zaxis\":{\"backgroundcolor\":\"#E5ECF6\",\"gridcolor\":\"white\",\"linecolor\":\"white\",\"showbackground\":true,\"ticks\":\"\",\"zerolinecolor\":\"white\",\"gridwidth\":2}},\"shapedefaults\":{\"line\":{\"color\":\"#2a3f5f\"}},\"annotationdefaults\":{\"arrowcolor\":\"#2a3f5f\",\"arrowhead\":0,\"arrowwidth\":1},\"geo\":{\"bgcolor\":\"white\",\"landcolor\":\"#E5ECF6\",\"subunitcolor\":\"white\",\"showland\":true,\"showlakes\":true,\"lakecolor\":\"white\"},\"title\":{\"x\":0.05},\"mapbox\":{\"style\":\"light\"}}},\"legend\":{\"tracegroupgap\":0},\"title\":{\"text\":\"Best Genre Total Sales\"},\"piecolorway\":[\"rgb(103,0,31)\",\"rgb(178,24,43)\",\"rgb(214,96,77)\",\"rgb(244,165,130)\",\"rgb(253,219,199)\",\"rgb(247,247,247)\",\"rgb(209,229,240)\",\"rgb(146,197,222)\",\"rgb(67,147,195)\",\"rgb(33,102,172)\",\"rgb(5,48,97)\"]},                        {\"responsive\": true}                    ).then(function(){\n",
       "                            \n",
       "var gd = document.getElementById('bec4e383-9a6c-41f9-94ec-00967bab2f96');\n",
       "var x = new MutationObserver(function (mutations, observer) {{\n",
       "        var display = window.getComputedStyle(gd).display;\n",
       "        if (!display || display === 'none') {{\n",
       "            console.log([gd, 'removed!']);\n",
       "            Plotly.purge(gd);\n",
       "            observer.disconnect();\n",
       "        }}\n",
       "}});\n",
       "\n",
       "// Listen for the removal of the full notebook cells\n",
       "var notebookContainer = gd.closest('#notebook-container');\n",
       "if (notebookContainer) {{\n",
       "    x.observe(notebookContainer, {childList: true});\n",
       "}}\n",
       "\n",
       "// Listen for the clearing of the current output cell\n",
       "var outputEl = gd.closest('.output');\n",
       "if (outputEl) {{\n",
       "    x.observe(outputEl, {childList: true});\n",
       "}}\n",
       "\n",
       "                        })                };                });            </script>        </div>"
      ]
     },
     "metadata": {},
     "output_type": "display_data"
    }
   ],
   "source": [
    "import plotly.express as px\n",
    "\n",
    "# plotly express not showing issue\n",
    "from plotly.offline import init_notebook_mode, iplot\n",
    "init_notebook_mode(connected=True)\n",
    "\n",
    "fig = px.pie(\n",
    "             values=data,\n",
    "             names=keys,\n",
    "             color_discrete_sequence=px.colors.sequential.RdBu,\n",
    "             title= 'Best Genre Total Sales')\n",
    "fig.show()"
   ]
  },
  {
   "cell_type": "markdown",
   "id": "0746b0b3",
   "metadata": {
    "execution": {
     "iopub.execute_input": "2022-09-26T11:46:58.839116Z",
     "iopub.status.busy": "2022-09-26T11:46:58.838685Z",
     "iopub.status.idle": "2022-09-26T11:46:58.844118Z",
     "shell.execute_reply": "2022-09-26T11:46:58.843034Z",
     "shell.execute_reply.started": "2022-09-26T11:46:58.839080Z"
    },
    "papermill": {
     "duration": 0.012067,
     "end_time": "2022-09-26T13:31:20.246673",
     "exception": false,
     "start_time": "2022-09-26T13:31:20.234606",
     "status": "completed"
    },
    "tags": []
   },
   "source": [
    "# TOP 30 Best Total Sales Album of 1990-2021"
   ]
  },
  {
   "cell_type": "code",
   "execution_count": 13,
   "id": "856621ac",
   "metadata": {
    "execution": {
     "iopub.execute_input": "2022-09-26T13:31:20.273565Z",
     "iopub.status.busy": "2022-09-26T13:31:20.272804Z",
     "iopub.status.idle": "2022-09-26T13:31:20.279037Z",
     "shell.execute_reply": "2022-09-26T13:31:20.278070Z"
    },
    "papermill": {
     "duration": 0.022436,
     "end_time": "2022-09-26T13:31:20.281407",
     "exception": false,
     "start_time": "2022-09-26T13:31:20.258971",
     "status": "completed"
    },
    "tags": []
   },
   "outputs": [],
   "source": [
    "replace_sales = data_length['Worldwide Sales (Est.)'].str.replace(pat=r'[^\\w]', repl=r'', regex=True).astype(int)"
   ]
  },
  {
   "cell_type": "code",
   "execution_count": 14,
   "id": "43b26ceb",
   "metadata": {
    "execution": {
     "iopub.execute_input": "2022-09-26T13:31:20.308106Z",
     "iopub.status.busy": "2022-09-26T13:31:20.307410Z",
     "iopub.status.idle": "2022-09-26T13:31:20.977086Z",
     "shell.execute_reply": "2022-09-26T13:31:20.976210Z"
    },
    "papermill": {
     "duration": 0.687649,
     "end_time": "2022-09-26T13:31:20.981247",
     "exception": false,
     "start_time": "2022-09-26T13:31:20.293598",
     "status": "completed"
    },
    "tags": []
   },
   "outputs": [
    {
     "data": {
      "image/png": "[encoded data removed]",
      "text/plain": [
       "<Figure size 1600x500 with 1 Axes>"
      ]
     },
     "metadata": {},
     "output_type": "display_data"
    }
   ],
   "source": [
    "#bar_templete(title, df_data, x_data, y_data, fontsize, color, height, rotation)\n",
    "bar_templete(\"Best Sales Album\",\n",
    "             data_length.sort_values(by = 'Worldwide Sales (Est.)', ascending=False)[:30], \n",
    "             'Album', \n",
    "             replace_sales,\n",
    "             10,\n",
    "             'black',\n",
    "             -30,\n",
    "             90\n",
    "            )\n"
   ]
  },
  {
   "cell_type": "markdown",
   "id": "fa55f3af",
   "metadata": {
    "papermill": {
     "duration": 0.015912,
     "end_time": "2022-09-26T13:31:21.013693",
     "exception": false,
     "start_time": "2022-09-26T13:31:20.997781",
     "status": "completed"
    },
    "tags": []
   },
   "source": [
    "# Genre Times Violin Chart"
   ]
  },
  {
   "cell_type": "code",
   "execution_count": 15,
   "id": "45afc119",
   "metadata": {
    "execution": {
     "iopub.execute_input": "2022-09-26T13:31:21.044831Z",
     "iopub.status.busy": "2022-09-26T13:31:21.044431Z",
     "iopub.status.idle": "2022-09-26T13:31:21.390679Z",
     "shell.execute_reply": "2022-09-26T13:31:21.389372Z"
    },
    "papermill": {
     "duration": 0.365045,
     "end_time": "2022-09-26T13:31:21.393513",
     "exception": false,
     "start_time": "2022-09-26T13:31:21.028468",
     "status": "completed"
    },
    "tags": []
   },
   "outputs": [
    {
     "data": {
      "image/png": "[encoded data removed]",
      "text/plain": [
       "<Figure size 1600x500 with 1 Axes>"
      ]
     },
     "metadata": {},
     "output_type": "display_data"
    }
   ],
   "source": [
    "plt.figure(figsize=(16,5))\n",
    "\n",
    "violin =  sns.violinplot(data = data_length , x = \"Genre\" , y = \"Minutes\")\n",
    "\n",
    "plt.show(violin)"
   ]
  }
 ],
 "metadata": {
  "kernelspec": {
   "display_name": "Python 3",
   "language": "python",
   "name": "python3"
  },
  "language_info": {
   "codemirror_mode": {
    "name": "ipython",
    "version": 3
   },
   "file_extension": ".py",
   "mimetype": "text/x-python",
   "name": "python",
   "nbconvert_exporter": "python",
   "pygments_lexer": "ipython3",
   "version": "3.7.12"
  },
  "papermill": {
   "default_parameters": {},
   "duration": 16.289361,
   "end_time": "2022-09-26T13:31:22.334131",
   "environment_variables": {},
   "exception": null,
   "input_path": "__notebook__.ipynb",
   "output_path": "__notebook__.ipynb",
   "parameters": {},
   "start_time": "2022-09-26T13:31:06.044770",
   "version": "2.3.4"
  }
 },
 "nbformat": 4,
 "nbformat_minor": 5
}
